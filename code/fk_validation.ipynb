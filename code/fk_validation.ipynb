{
  "cells": [
    {
      "cell_type": "code",
      "execution_count": 9,
      "metadata": {
        "id": "EdBu9fcTztne"
      },
      "outputs": [],
      "source": [
        "#!/usr/bin/env python3\n",
        "import math\n",
        "from sympy import Matrix, pretty_print, init_printing\n",
        "\n",
        "pi = round(math.pi, 2)\n",
        "#convert_to_rad = pi/180\n",
        "\n",
        "# Function that converts input joint angle degrees to radians\n",
        "def convert_to_rad(theta):\n",
        "    theta = theta*pi/180\n",
        "    return theta\n",
        "\n",
        "#Function that calculates the final transformation matrix for given joint angles\n",
        "def calculate(theta_1, theta_2, theta_3, theta_4, theta_5, theta_6):\n",
        "    # theta_1 = convert_to_rad(theta_1)\n",
        "    # theta_2 = convert_to_rad(theta_2)\n",
        "    # theta_3 = convert_to_rad(theta_3)\n",
        "    # theta_4 = convert_to_rad(theta_4)\n",
        "    # theta_5 = convert_to_rad(theta_5)\n",
        "    # theta_6 = convert_to_rad(theta_6)\n",
        "\n",
        "    A1 = Matrix([[round(math.cos(theta_1)), 0, round(math.sin(theta_1)), 0],\n",
        "                [round(math.sin(theta_1)), 0, -round(math.cos(theta_1)), 0],\n",
        "                [0, 1, 0, 0.1625],\n",
        "                [0, 0, 0, 1]])\n",
        "\n",
        "    A2 = Matrix([[round(math.cos(theta_2)), -round(math.sin(theta_2)), 0, -0.425*round(math.cos(theta_2))],\n",
        "                [round(math.sin(theta_2)), round(math.cos(theta_2)), 0, -0.425*round(math.sin(theta_2))],\n",
        "                [0, 0, 1, 0],\n",
        "                [0, 0, 0, 1]])\n",
        "\n",
        "    A3 = Matrix([[round(math.cos(theta_3)), -round(math.sin(theta_3)), 0, -0.3922*round(math.cos(theta_3))],\n",
        "                [round(math.sin(theta_3)), round(math.cos(theta_3)), 0, -0.3922*round(math.sin(theta_3))],\n",
        "                [0, 0, 1, 0],\n",
        "                [0, 0, 0, 1]])\n",
        "    \n",
        "    A4 = Matrix([[round(math.cos(theta_4)), 0, round(math.sin(theta_4)), 0],\n",
        "                [round(math.sin(theta_4)), 0, -round(math.cos(theta_4)), 0],\n",
        "                [0, 1, 0, 0.1333],\n",
        "                [0, 0, 0, 1]])\n",
        "\n",
        "    A5 = Matrix([[round(math.cos(theta_5)), 0, -round(math.sin(theta_5)), 0],\n",
        "                [round(math.sin(theta_5)), 0, round(math.cos(theta_5)), 0],\n",
        "                [0, -1, 0, 0.0997],\n",
        "                [0, 0, 0, 1]])\n",
        "\n",
        "    A6 = Matrix([[round(math.cos(theta_6)), -round(math.sin(theta_6)), 0, 0],\n",
        "                [round(math.sin(theta_6)), round(math.cos(theta_6)), 0, 0],\n",
        "                [0, 0, 1, 0.0996],\n",
        "                [0, 0, 0, 1]])\n",
        "                \n",
        "    # Final transformation matrix (T) = Product of all individual transformations A1-A7            \n",
        "    T = A1*A2*A3*A4*A5*A6\n",
        "    init_printing()\n",
        "    return T"
      ]
    },
    {
      "cell_type": "code",
      "execution_count": 10,
      "metadata": {
        "colab": {
          "base_uri": "https://localhost:8080/",
          "height": 159
        },
        "id": "8v7TfNh20yhK",
        "outputId": "19f4debd-1ba7-413f-d866-2ea1898a082c"
      },
      "outputs": [
        {
          "data": {
            "text/latex": [
              "$\\displaystyle \\left[\\begin{matrix}1 & 0 & 0 & -0.8172\\\\0 & 0 & -1 & -0.2329\\\\0 & 1 & 0 & 0.0628\\\\0 & 0 & 0 & 1\\end{matrix}\\right]$"
            ],
            "text/plain": [
              "⎡1  0  0   -0.8172⎤\n",
              "⎢                 ⎥\n",
              "⎢0  0  -1  -0.2329⎥\n",
              "⎢                 ⎥\n",
              "⎢0  1  0   0.0628 ⎥\n",
              "⎢                 ⎥\n",
              "⎣0  0  0      1   ⎦"
            ]
          },
          "execution_count": 10,
          "metadata": {},
          "output_type": "execute_result"
        }
      ],
      "source": [
        "calculate(0, 0, 0, 0, 0, 0)"
      ]
    },
    {
      "cell_type": "code",
      "execution_count": 11,
      "metadata": {},
      "outputs": [
        {
          "data": {
            "text/latex": [
              "$\\displaystyle \\left[\\begin{matrix}0 & 1 & 0 & -0.4919\\\\-1 & 0 & 0 & -0.1333\\\\0 & 0 & 1 & 0.6871\\\\0 & 0 & 0 & 1\\end{matrix}\\right]$"
            ],
            "text/plain": [
              "⎡0   1  0  -0.4919⎤\n",
              "⎢                 ⎥\n",
              "⎢-1  0  0  -0.1333⎥\n",
              "⎢                 ⎥\n",
              "⎢0   0  1  0.6871 ⎥\n",
              "⎢                 ⎥\n",
              "⎣0   0  0     1   ⎦"
            ]
          },
          "execution_count": 11,
          "metadata": {},
          "output_type": "execute_result"
        }
      ],
      "source": [
        "calculate(0, -1.5708, 1.5708, -1.5708, 1.5708, 0)"
      ]
    }
  ],
  "metadata": {
    "colab": {
      "collapsed_sections": [],
      "provenance": []
    },
    "kernelspec": {
      "display_name": "Python 3.8.10 64-bit",
      "language": "python",
      "name": "python3"
    },
    "language_info": {
      "codemirror_mode": {
        "name": "ipython",
        "version": 3
      },
      "file_extension": ".py",
      "mimetype": "text/x-python",
      "name": "python",
      "nbconvert_exporter": "python",
      "pygments_lexer": "ipython3",
      "version": "3.8.10"
    },
    "vscode": {
      "interpreter": {
        "hash": "916dbcbb3f70747c44a77c7bcd40155683ae19c65e1c03b4aa3499c5328201f1"
      }
    }
  },
  "nbformat": 4,
  "nbformat_minor": 0
}
